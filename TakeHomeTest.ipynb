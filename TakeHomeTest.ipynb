{
  "nbformat": 4,
  "nbformat_minor": 0,
  "metadata": {
    "colab": {
      "provenance": [],
      "authorship_tag": "ABX9TyN6bbSEl9E/xnuz8dXrIX0m",
      "include_colab_link": true
    },
    "kernelspec": {
      "name": "python3",
      "display_name": "Python 3"
    },
    "language_info": {
      "name": "python"
    }
  },
  "cells": [
    {
      "cell_type": "markdown",
      "metadata": {
        "id": "view-in-github",
        "colab_type": "text"
      },
      "source": [
        "<a href=\"https://colab.research.google.com/github/Pallavisuma/CMPE257-Fall23-PallaviSuma-Kurmala/blob/take-home-exam/TakeHomeTest.ipynb\" target=\"_parent\"><img src=\"https://colab.research.google.com/assets/colab-badge.svg\" alt=\"Open In Colab\"/></a>"
      ]
    },
    {
      "cell_type": "markdown",
      "source": [
        "Take Home Test\n",
        "\n",
        "017353128\n",
        "\n",
        "Took reference from Chat GPT"
      ],
      "metadata": {
        "id": "kJ4J2LOaLWsc"
      }
    },
    {
      "cell_type": "markdown",
      "source": [
        "Task 1\n"
      ],
      "metadata": {
        "id": "c1tCGBjaLan9"
      }
    },
    {
      "cell_type": "code",
      "source": [
        "import numpy as np\n",
        "import pandas as pd\n",
        "import matplotlib.pyplot as plt\n",
        "from sklearn.linear_model import LinearRegression\n",
        "from sklearn.preprocessing import PolynomialFeatures\n",
        "from sklearn.metrics import mean_squared_error"
      ],
      "metadata": {
        "id": "QVtBH5pqLZ5q"
      },
      "execution_count": 1,
      "outputs": []
    },
    {
      "cell_type": "code",
      "source": [
        "train_data = pd.read_csv('/content/synthetic_dataset .csv')"
      ],
      "metadata": {
        "id": "LA0ph_oSL6ca"
      },
      "execution_count": 4,
      "outputs": []
    },
    {
      "cell_type": "code",
      "source": [
        "test_data = pd.read_csv('synthetic_test_dataset.csv')"
      ],
      "metadata": {
        "id": "olHLOMoSMZnU"
      },
      "execution_count": 6,
      "outputs": []
    },
    {
      "cell_type": "code",
      "source": [
        "plt.scatter(train_data['x1'], train_data['x2'], c=train_data['y'].map({-1: 'red', 1: 'blue'}))\n",
        "plt.xlabel('x1')\n",
        "plt.ylabel('x2')\n",
        "plt.title('x1 vs x2')\n",
        "plt.show()"
      ],
      "metadata": {
        "colab": {
          "base_uri": "https://localhost:8080/",
          "height": 472
        },
        "id": "_uWxnTfcMcDP",
        "outputId": "a32549fb-5804-4cb7-9fdd-1578076d82a9"
      },
      "execution_count": 7,
      "outputs": [
        {
          "output_type": "display_data",
          "data": {
            "text/plain": [
              "<Figure size 640x480 with 1 Axes>"
            ],
            "image/png": "[encoded data removed]"
          },
          "metadata": {}
        }
      ]
    },
    {
      "cell_type": "code",
      "source": [
        "def weights(X, y):\n",
        "    return np.dot(np.dot(np.linalg.inv(np.dot(X.T, X)), X.T), y)\n",
        "\n",
        "def predict(X, weights):\n",
        "    return np.sign(np.dot(X, weights))\n",
        "\n",
        "def Error(y_true, y_pred):\n",
        "    return np.mean(y_true != y_pred)\n",
        "\n",
        "def polynomial_tranforms(x1,x2, order):\n",
        "    if(order ==1):\n",
        "        return np.vstack((x1, x2, np.ones_like(x1))).T\n",
        "    elif order == 2:\n",
        "        return np.vstack((x1**2, x2**2, x1*x2, x1, x2, np.ones_like(x1))).T\n",
        "    elif order == 3:\n",
        "        return np.vstack((x1**3, x2**3, x1**2*x2, x1*x2**2, x1**2, x2**2, x1*x2, x1, x2, np.ones_like(x1))).T\n",
        "    elif order == 4:\n",
        "        return np.vstack((x1**4, x2**4, x1**3*x2, x1**2*x2**2, x1*x2**3, x1**3, x2**3, x1**2*x2, x1*x2**2, x1**2, x2**2, x1*x2, x1, x2, np.ones_like(x1))).T\n",
        "\n",
        "\n",
        "\n",
        "\n"
      ],
      "metadata": {
        "id": "FTp2Crs5NDUA"
      },
      "execution_count": 31,
      "outputs": []
    },
    {
      "cell_type": "code",
      "source": [
        "x1, x2, y = train_data['x1'].values, train_data['x2'].values, train_data['y'].values\n",
        "testX1, testX2, testY = test_data['x1'].values, test_data['x2'].values, test_data['y'].values"
      ],
      "metadata": {
        "id": "6i5G9YfWN96j"
      },
      "execution_count": 11,
      "outputs": []
    },
    {
      "cell_type": "markdown",
      "source": [
        "Training"
      ],
      "metadata": {
        "id": "ntw6rBSAPEOU"
      }
    },
    {
      "cell_type": "code",
      "source": [
        "X_linear = polynomial_tranforms(x1, x2 ,1)\n",
        "\n",
        "weights_linear = weights(X_linear, y)\n",
        "\n",
        "test_predictions_linear = predict(X_linear, weights_linear)\n",
        "\n",
        "train_error_linear = Error(y, test_predictions_linear)\n",
        "print(f\"train_error_linear: {train_error_linear}\")\n",
        "\n",
        "# Calculating the test error with no feature tranforms\n",
        "testX_linear = polynomial_tranforms(testX1, testX2,1)\n",
        "\n",
        "test_predictions_linear = predict(testX_linear, weights_linear)\n",
        "\n",
        "test_error_linear = Error(testY, test_predictions_linear)\n",
        "print(f\"validation_error_linear: {test_error_linear}\")"
      ],
      "metadata": {
        "colab": {
          "base_uri": "https://localhost:8080/"
        },
        "id": "1izzRcSXOJsc",
        "outputId": "d9c75bc1-1edd-44eb-d0c9-69e695bb1a21"
      },
      "execution_count": 26,
      "outputs": [
        {
          "output_type": "stream",
          "name": "stdout",
          "text": [
            "train_error_linear: 0.4\n",
            "validation_error_linear: 0.41\n"
          ]
        }
      ]
    },
    {
      "cell_type": "code",
      "source": [
        "\n",
        "X_quad= polynomial_tranforms(x1, x2,2)\n",
        "\n",
        "weights_quad =  weights(X_quad, y)\n",
        "\n",
        "predictions_quad = predict(X_quad, weights_quad)\n",
        "\n",
        "train_error_quad = Error(y, predictions_quad)\n",
        "print(f\"train_error_quad: {train_error_quad}\")\n",
        "\n",
        "# Calculating the validation error with quadratic feature tranforms\n",
        "testX_quad= polynomial_tranforms(testX1, testX2,2)\n",
        "\n",
        "test_predictions_quad = predict(testX_quad, weights_quad)\n",
        "\n",
        "test_error_quad = Error(testY, test_predictions_quad)\n",
        "print(f\"validation_error_quad: {test_error_quad}\")\n"
      ],
      "metadata": {
        "colab": {
          "base_uri": "https://localhost:8080/"
        },
        "id": "0Obtr6N1UrQt",
        "outputId": "5cd9a673-32b2-4ef4-aa28-e9b0f69c84f0"
      },
      "execution_count": 32,
      "outputs": [
        {
          "output_type": "stream",
          "name": "stdout",
          "text": [
            "train_error_quad: 0.22\n",
            "validation_error_quad: 0.278\n"
          ]
        }
      ]
    },
    {
      "cell_type": "markdown",
      "source": [
        "Training with  3rd and 4rth order Polynomial"
      ],
      "metadata": {
        "id": "cDEwvAEcPfZ3"
      }
    },
    {
      "cell_type": "code",
      "source": [
        "X_3rd= polynomial_tranforms(x1, x2,3)\n",
        "\n",
        "weights_3rd=  weights(X_3rd, y)\n",
        "\n",
        "predictions_3rd = predict(X_3rd, weights_3rd)\n",
        "\n",
        "train_error_3rd = Error(y, predictions_3rd)\n",
        "print(f\"train_error_quad: {train_error_3rd}\")\n",
        "\n",
        "# Calculating the validation error with quadratic feature tranforms\n",
        "testX_3rd = polynomial_tranforms(testX1, testX2,3)\n",
        "\n",
        "test_predictions_3rd = predict(testX_3rd, weights_3rd)\n",
        "\n",
        "test_error_3rd = Error(testY, test_predictions_3rd)\n",
        "print(f\"validation_error_quad: {test_error_3rd}\")\n"
      ],
      "metadata": {
        "colab": {
          "base_uri": "https://localhost:8080/"
        },
        "id": "XPapADZPPXbt",
        "outputId": "101a4f3a-3217-41be-d1b8-0d7be84f72e1"
      },
      "execution_count": 35,
      "outputs": [
        {
          "output_type": "stream",
          "name": "stdout",
          "text": [
            "train_error_quad: 0.04\n",
            "validation_error_quad: 0.198\n"
          ]
        }
      ]
    },
    {
      "cell_type": "code",
      "source": [
        "\n",
        "X_4rth= polynomial_tranforms(x1, x2,4)\n",
        "\n",
        "weights_4rth =  weights(X_4rth, y)\n",
        "\n",
        "predictions_4rth= predict(X_4rth, weights_4rth)\n",
        "train_error_4rth = Error(y, predictions_4rth)\n",
        "print(f\"train_error_quad: {train_error_4rth}\")\n",
        "\n",
        "# Calculating the validation error with quadratic feature tranforms\n",
        "testX_4rth = polynomial_tranforms(testX1, testX2,4)\n",
        "\n",
        "test_predictions_4rth = predict(testX_4rth, weights_4rth)\n",
        "\n",
        "test_error_4rth = Error(testY, test_predictions_4rth)\n",
        "print(f\"validation_error_quad: {test_error_4rth}\")"
      ],
      "metadata": {
        "colab": {
          "base_uri": "https://localhost:8080/"
        },
        "id": "BgSelmDuQWeY",
        "outputId": "796088f8-d734-42d9-976a-6ce49f0f507b"
      },
      "execution_count": 36,
      "outputs": [
        {
          "output_type": "stream",
          "name": "stdout",
          "text": [
            "train_error_quad: 0.02\n",
            "validation_error_quad: 0.204\n"
          ]
        }
      ]
    },
    {
      "cell_type": "code",
      "source": [
        "feature_transform =['linear', 'quad', 'cubic', 'fourth']\n",
        "train_errors = [train_error_linear, train_error_quad,train_error_3rd, train_error_4rth]\n",
        "validation_errors = [test_error_linear,test_error_quad, test_error_3rd,  test_error_4rth]"
      ],
      "metadata": {
        "id": "4f-rVXNxR84C"
      },
      "execution_count": 38,
      "outputs": []
    },
    {
      "cell_type": "code",
      "source": [
        "plt.figure(figsize=(8, 6))\n",
        "plt.plot(feature_transform, train_errors, marker='o', label='Training Error')\n",
        "plt.plot(feature_transform, validation_errors, marker='o', label='Validation Error')\n",
        "plt.title('Training and Validation Errors by Polynomial Order')\n",
        "plt.xlabel('Polynomial Order')\n",
        "plt.ylabel('Error')\n",
        "plt.legend()\n",
        "plt.grid(True)\n",
        "plt.show()"
      ],
      "metadata": {
        "colab": {
          "base_uri": "https://localhost:8080/",
          "height": 564
        },
        "id": "eejiIO-0RvDn",
        "outputId": "32ce091d-7268-4f34-ea4f-2ca33fcebe30"
      },
      "execution_count": 39,
      "outputs": [
        {
          "output_type": "display_data",
          "data": {
            "text/plain": [
              "<Figure size 800x600 with 1 Axes>"
            ],
            "image/png": "[encoded data removed]"
          },
          "metadata": {}
        }
      ]
    },
    {
      "cell_type": "markdown",
      "source": [
        "\n",
        "- As model complexity increases, training errors consistently decrease, indicating better data fitting.\n",
        "-  Validation errors decrease until the cubic transformation and then increase slightly for the fourth-order transformation.\n",
        "-  The increase in model complexity beyond the cubic transformation appears to lead to overfitting, as evidenced by the rise in validation error.\n",
        "\n",
        "\n",
        "- Of the available options, the cubic transformation appears to strike a good balance between minimising training and validation errors.\n",
        "- It appears to generalise well to previously unseen data (lower validation error) while retaining essential features (low training error).\n",
        "- The fourth-order transformation may be slightly overfitting the training data, as evidenced by a slightly higher validation error despite a lower training error.\n",
        "\n",
        "As a result of this analysis, the cubic transformation appears to provide the best balance between fitting the data and generalising to new, unseen data points."
      ],
      "metadata": {
        "id": "hWq7Ov5ESY3M"
      }
    },
    {
      "cell_type": "markdown",
      "source": [
        "Task 2"
      ],
      "metadata": {
        "id": "8bo45vPIS5FY"
      }
    },
    {
      "cell_type": "code",
      "source": [
        "cancer_data=pd.read_csv('/content/breast_cancer_dataset_preprocessed.csv')\n"
      ],
      "metadata": {
        "id": "luRxAgakS38v"
      },
      "execution_count": 41,
      "outputs": []
    },
    {
      "cell_type": "code",
      "source": [
        "cancer_data.head()"
      ],
      "metadata": {
        "colab": {
          "base_uri": "https://localhost:8080/",
          "height": 206
        },
        "id": "bI8izwwSWdG7",
        "outputId": "8391b59e-0104-43a4-ca32-735a1a31d559"
      },
      "execution_count": 43,
      "outputs": [
        {
          "output_type": "execute_result",
          "data": {
            "text/plain": [
              "         x1        x2        x3        x4        x5        x6        x7  \\\n",
              "0  4.147954 -4.443183 -0.068966  4.035033  0.817574 -0.476277  0.553593   \n",
              "1 -4.595154 -2.684882  1.084110 -0.403925  0.410287  0.687051  0.284184   \n",
              "2 -0.755349 -2.318373 -1.938275  0.279953  0.241712  3.409801  0.092694   \n",
              "3 -0.453863  0.197572 -1.037060  0.344384  0.070598 -0.822546 -0.993352   \n",
              "4 -3.278680 -0.792025 -0.736833 -1.621295 -0.085459 -0.824324 -0.107042   \n",
              "\n",
              "         x8  y  \n",
              "0  1.268819  M  \n",
              "1  0.260968  B  \n",
              "2  1.040391  M  \n",
              "3 -0.946259  B  \n",
              "4 -0.291755  B  "
            ],
            "text/html": [
              "\n",
              "  <div id=\"df-a8c9fe3c-c0e0-4c02-82a3-e3e76af1c035\" class=\"colab-df-container\">\n",
              "    <div>\n",
              "<style scoped>\n",
              "    .dataframe tbody tr th:only-of-type {\n",
              "        vertical-align: middle;\n",
              "    }\n",
              "\n",
              "    .dataframe tbody tr th {\n",
              "        vertical-align: top;\n",
              "    }\n",
              "\n",
              "    .dataframe thead th {\n",
              "        text-align: right;\n",
              "    }\n",
              "</style>\n",
              "<table border=\"1\" class=\"dataframe\">\n",
              "  <thead>\n",
              "    <tr style=\"text-align: right;\">\n",
              "      <th></th>\n",
              "      <th>x1</th>\n",
              "      <th>x2</th>\n",
              "      <th>x3</th>\n",
              "      <th>x4</th>\n",
              "      <th>x5</th>\n",
              "      <th>x6</th>\n",
              "      <th>x7</th>\n",
              "      <th>x8</th>\n",
              "      <th>y</th>\n",
              "    </tr>\n",
              "  </thead>\n",
              "  <tbody>\n",
              "    <tr>\n",
              "      <th>0</th>\n",
              "      <td>4.147954</td>\n",
              "      <td>-4.443183</td>\n",
              "      <td>-0.068966</td>\n",
              "      <td>4.035033</td>\n",
              "      <td>0.817574</td>\n",
              "      <td>-0.476277</td>\n",
              "      <td>0.553593</td>\n",
              "      <td>1.268819</td>\n",
              "      <td>M</td>\n",
              "    </tr>\n",
              "    <tr>\n",
              "      <th>1</th>\n",
              "      <td>-4.595154</td>\n",
              "      <td>-2.684882</td>\n",
              "      <td>1.084110</td>\n",
              "      <td>-0.403925</td>\n",
              "      <td>0.410287</td>\n",
              "      <td>0.687051</td>\n",
              "      <td>0.284184</td>\n",
              "      <td>0.260968</td>\n",
              "      <td>B</td>\n",
              "    </tr>\n",
              "    <tr>\n",
              "      <th>2</th>\n",
              "      <td>-0.755349</td>\n",
              "      <td>-2.318373</td>\n",
              "      <td>-1.938275</td>\n",
              "      <td>0.279953</td>\n",
              "      <td>0.241712</td>\n",
              "      <td>3.409801</td>\n",
              "      <td>0.092694</td>\n",
              "      <td>1.040391</td>\n",
              "      <td>M</td>\n",
              "    </tr>\n",
              "    <tr>\n",
              "      <th>3</th>\n",
              "      <td>-0.453863</td>\n",
              "      <td>0.197572</td>\n",
              "      <td>-1.037060</td>\n",
              "      <td>0.344384</td>\n",
              "      <td>0.070598</td>\n",
              "      <td>-0.822546</td>\n",
              "      <td>-0.993352</td>\n",
              "      <td>-0.946259</td>\n",
              "      <td>B</td>\n",
              "    </tr>\n",
              "    <tr>\n",
              "      <th>4</th>\n",
              "      <td>-3.278680</td>\n",
              "      <td>-0.792025</td>\n",
              "      <td>-0.736833</td>\n",
              "      <td>-1.621295</td>\n",
              "      <td>-0.085459</td>\n",
              "      <td>-0.824324</td>\n",
              "      <td>-0.107042</td>\n",
              "      <td>-0.291755</td>\n",
              "      <td>B</td>\n",
              "    </tr>\n",
              "  </tbody>\n",
              "</table>\n",
              "</div>\n",
              "    <div class=\"colab-df-buttons\">\n",
              "\n",
              "  <div class=\"colab-df-container\">\n",
              "    <button class=\"colab-df-convert\" onclick=\"convertToInteractive('df-a8c9fe3c-c0e0-4c02-82a3-e3e76af1c035')\"\n",
              "            title=\"Convert this dataframe to an interactive table.\"\n",
              "            style=\"display:none;\">\n",
              "\n",
              "  <svg xmlns=\"http://www.w3.org/2000/svg\" height=\"24px\" viewBox=\"0 -960 960 960\">\n",
              "    <path d=\"M120-120v-720h720v720H120Zm60-500h600v-160H180v160Zm220 220h160v-160H400v160Zm0 220h160v-160H400v160ZM180-400h160v-160H180v160Zm440 0h160v-160H620v160ZM180-180h160v-160H180v160Zm440 0h160v-160H620v160Z\"/>\n",
              "  </svg>\n",
              "    </button>\n",
              "\n",
              "  <style>\n",
              "    .colab-df-container {\n",
              "      display:flex;\n",
              "      gap: 12px;\n",
              "    }\n",
              "\n",
              "    .colab-df-convert {\n",
              "      background-color: #E8F0FE;\n",
              "      border: none;\n",
              "      border-radius: 50%;\n",
              "      cursor: pointer;\n",
              "      display: none;\n",
              "      fill: #1967D2;\n",
              "      height: 32px;\n",
              "      padding: 0 0 0 0;\n",
              "      width: 32px;\n",
              "    }\n",
              "\n",
              "    .colab-df-convert:hover {\n",
              "      background-color: #E2EBFA;\n",
              "      box-shadow: 0px 1px 2px rgba(60, 64, 67, 0.3), 0px 1px 3px 1px rgba(60, 64, 67, 0.15);\n",
              "      fill: #174EA6;\n",
              "    }\n",
              "\n",
              "    .colab-df-buttons div {\n",
              "      margin-bottom: 4px;\n",
              "    }\n",
              "\n",
              "    [theme=dark] .colab-df-convert {\n",
              "      background-color: #3B4455;\n",
              "      fill: #D2E3FC;\n",
              "    }\n",
              "\n",
              "    [theme=dark] .colab-df-convert:hover {\n",
              "      background-color: #434B5C;\n",
              "      box-shadow: 0px 1px 3px 1px rgba(0, 0, 0, 0.15);\n",
              "      filter: drop-shadow(0px 1px 2px rgba(0, 0, 0, 0.3));\n",
              "      fill: #FFFFFF;\n",
              "    }\n",
              "  </style>\n",
              "\n",
              "    <script>\n",
              "      const buttonEl =\n",
              "        document.querySelector('#df-a8c9fe3c-c0e0-4c02-82a3-e3e76af1c035 button.colab-df-convert');\n",
              "      buttonEl.style.display =\n",
              "        google.colab.kernel.accessAllowed ? 'block' : 'none';\n",
              "\n",
              "      async function convertToInteractive(key) {\n",
              "        const element = document.querySelector('#df-a8c9fe3c-c0e0-4c02-82a3-e3e76af1c035');\n",
              "        const dataTable =\n",
              "          await google.colab.kernel.invokeFunction('convertToInteractive',\n",
              "                                                    [key], {});\n",
              "        if (!dataTable) return;\n",
              "\n",
              "        const docLinkHtml = 'Like what you see? Visit the ' +\n",
              "          '<a target=\"_blank\" href=https://colab.research.google.com/notebooks/data_table.ipynb>data table notebook</a>'\n",
              "          + ' to learn more about interactive tables.';\n",
              "        element.innerHTML = '';\n",
              "        dataTable['output_type'] = 'display_data';\n",
              "        await google.colab.output.renderOutput(dataTable, element);\n",
              "        const docLink = document.createElement('div');\n",
              "        docLink.innerHTML = docLinkHtml;\n",
              "        element.appendChild(docLink);\n",
              "      }\n",
              "    </script>\n",
              "  </div>\n",
              "\n",
              "\n",
              "<div id=\"df-6dce89bb-8f17-4b97-843f-f062011a88e7\">\n",
              "  <button class=\"colab-df-quickchart\" onclick=\"quickchart('df-6dce89bb-8f17-4b97-843f-f062011a88e7')\"\n",
              "            title=\"Suggest charts\"\n",
              "            style=\"display:none;\">\n",
              "\n",
              "<svg xmlns=\"http://www.w3.org/2000/svg\" height=\"24px\"viewBox=\"0 0 24 24\"\n",
              "     width=\"24px\">\n",
              "    <g>\n",
              "        <path d=\"M19 3H5c-1.1 0-2 .9-2 2v14c0 1.1.9 2 2 2h14c1.1 0 2-.9 2-2V5c0-1.1-.9-2-2-2zM9 17H7v-7h2v7zm4 0h-2V7h2v10zm4 0h-2v-4h2v4z\"/>\n",
              "    </g>\n",
              "</svg>\n",
              "  </button>\n",
              "\n",
              "<style>\n",
              "  .colab-df-quickchart {\n",
              "      --bg-color: #E8F0FE;\n",
              "      --fill-color: #1967D2;\n",
              "      --hover-bg-color: #E2EBFA;\n",
              "      --hover-fill-color: #174EA6;\n",
              "      --disabled-fill-color: #AAA;\n",
              "      --disabled-bg-color: #DDD;\n",
              "  }\n",
              "\n",
              "  [theme=dark] .colab-df-quickchart {\n",
              "      --bg-color: #3B4455;\n",
              "      --fill-color: #D2E3FC;\n",
              "      --hover-bg-color: #434B5C;\n",
              "      --hover-fill-color: #FFFFFF;\n",
              "      --disabled-bg-color: #3B4455;\n",
              "      --disabled-fill-color: #666;\n",
              "  }\n",
              "\n",
              "  .colab-df-quickchart {\n",
              "    background-color: var(--bg-color);\n",
              "    border: none;\n",
              "    border-radius: 50%;\n",
              "    cursor: pointer;\n",
              "    display: none;\n",
              "    fill: var(--fill-color);\n",
              "    height: 32px;\n",
              "    padding: 0;\n",
              "    width: 32px;\n",
              "  }\n",
              "\n",
              "  .colab-df-quickchart:hover {\n",
              "    background-color: var(--hover-bg-color);\n",
              "    box-shadow: 0 1px 2px rgba(60, 64, 67, 0.3), 0 1px 3px 1px rgba(60, 64, 67, 0.15);\n",
              "    fill: var(--button-hover-fill-color);\n",
              "  }\n",
              "\n",
              "  .colab-df-quickchart-complete:disabled,\n",
              "  .colab-df-quickchart-complete:disabled:hover {\n",
              "    background-color: var(--disabled-bg-color);\n",
              "    fill: var(--disabled-fill-color);\n",
              "    box-shadow: none;\n",
              "  }\n",
              "\n",
              "  .colab-df-spinner {\n",
              "    border: 2px solid var(--fill-color);\n",
              "    border-color: transparent;\n",
              "    border-bottom-color: var(--fill-color);\n",
              "    animation:\n",
              "      spin 1s steps(1) infinite;\n",
              "  }\n",
              "\n",
              "  @keyframes spin {\n",
              "    0% {\n",
              "      border-color: transparent;\n",
              "      border-bottom-color: var(--fill-color);\n",
              "      border-left-color: var(--fill-color);\n",
              "    }\n",
              "    20% {\n",
              "      border-color: transparent;\n",
              "      border-left-color: var(--fill-color);\n",
              "      border-top-color: var(--fill-color);\n",
              "    }\n",
              "    30% {\n",
              "      border-color: transparent;\n",
              "      border-left-color: var(--fill-color);\n",
              "      border-top-color: var(--fill-color);\n",
              "      border-right-color: var(--fill-color);\n",
              "    }\n",
              "    40% {\n",
              "      border-color: transparent;\n",
              "      border-right-color: var(--fill-color);\n",
              "      border-top-color: var(--fill-color);\n",
              "    }\n",
              "    60% {\n",
              "      border-color: transparent;\n",
              "      border-right-color: var(--fill-color);\n",
              "    }\n",
              "    80% {\n",
              "      border-color: transparent;\n",
              "      border-right-color: var(--fill-color);\n",
              "      border-bottom-color: var(--fill-color);\n",
              "    }\n",
              "    90% {\n",
              "      border-color: transparent;\n",
              "      border-bottom-color: var(--fill-color);\n",
              "    }\n",
              "  }\n",
              "</style>\n",
              "\n",
              "  <script>\n",
              "    async function quickchart(key) {\n",
              "      const quickchartButtonEl =\n",
              "        document.querySelector('#' + key + ' button');\n",
              "      quickchartButtonEl.disabled = true;  // To prevent multiple clicks.\n",
              "      quickchartButtonEl.classList.add('colab-df-spinner');\n",
              "      try {\n",
              "        const charts = await google.colab.kernel.invokeFunction(\n",
              "            'suggestCharts', [key], {});\n",
              "      } catch (error) {\n",
              "        console.error('Error during call to suggestCharts:', error);\n",
              "      }\n",
              "      quickchartButtonEl.classList.remove('colab-df-spinner');\n",
              "      quickchartButtonEl.classList.add('colab-df-quickchart-complete');\n",
              "    }\n",
              "    (() => {\n",
              "      let quickchartButtonEl =\n",
              "        document.querySelector('#df-6dce89bb-8f17-4b97-843f-f062011a88e7 button');\n",
              "      quickchartButtonEl.style.display =\n",
              "        google.colab.kernel.accessAllowed ? 'block' : 'none';\n",
              "    })();\n",
              "  </script>\n",
              "</div>\n",
              "    </div>\n",
              "  </div>\n"
            ]
          },
          "metadata": {},
          "execution_count": 43
        }
      ]
    },
    {
      "cell_type": "code",
      "source": [
        "cancer_data.describe()"
      ],
      "metadata": {
        "colab": {
          "base_uri": "https://localhost:8080/",
          "height": 300
        },
        "id": "aUZ1RPiWWg5n",
        "outputId": "a388e5a4-2fd3-4b33-864e-8ea3c00f5a0a"
      },
      "execution_count": 44,
      "outputs": [
        {
          "output_type": "execute_result",
          "data": {
            "text/plain": [
              "                 x1            x2            x3            x4            x5  \\\n",
              "count  3.810000e+02  3.810000e+02  3.810000e+02  3.810000e+02  3.810000e+02   \n",
              "mean   4.662354e-18  2.797412e-17 -1.631824e-17 -2.797412e-17 -2.797412e-17   \n",
              "std    3.621316e+00  2.384647e+00  1.734338e+00  1.429617e+00  1.287268e+00   \n",
              "min   -5.508773e+00 -7.715905e+00 -4.493143e+00 -4.123493e+00 -4.905151e+00   \n",
              "25%   -2.742047e+00 -1.477377e+00 -1.037060e+00 -9.484575e-01 -6.733832e-01   \n",
              "50%   -1.110688e+00 -1.824313e-01 -1.804973e-01 -6.289660e-02 -5.918051e-02   \n",
              "75%    2.528431e+00  1.238930e+00  8.892163e-01  7.023924e-01  6.294085e-01   \n",
              "max    1.574861e+01  1.264984e+01  9.743745e+00  5.241572e+00  6.377598e+00   \n",
              "\n",
              "                 x6            x7            x8  \n",
              "count  3.810000e+02  3.810000e+02  3.810000e+02  \n",
              "mean  -9.324708e-18  4.662354e-18  9.324708e-18  \n",
              "std    1.081252e+00  8.255491e-01  6.943847e-01  \n",
              "min   -4.173706e+00 -3.651191e+00 -3.023013e+00  \n",
              "25%   -7.036125e-01 -4.657817e-01 -3.591851e-01  \n",
              "50%   -1.078260e-01 -5.509302e-03  1.888426e-02  \n",
              "75%    5.992903e-01  4.462397e-01  3.551078e-01  \n",
              "max    4.961734e+00  5.032409e+00  4.207317e+00  "
            ],
            "text/html": [
              "\n",
              "  <div id=\"df-d9690955-6079-4991-b5e2-9cdee718e4a0\" class=\"colab-df-container\">\n",
              "    <div>\n",
              "<style scoped>\n",
              "    .dataframe tbody tr th:only-of-type {\n",
              "        vertical-align: middle;\n",
              "    }\n",
              "\n",
              "    .dataframe tbody tr th {\n",
              "        vertical-align: top;\n",
              "    }\n",
              "\n",
              "    .dataframe thead th {\n",
              "        text-align: right;\n",
              "    }\n",
              "</style>\n",
              "<table border=\"1\" class=\"dataframe\">\n",
              "  <thead>\n",
              "    <tr style=\"text-align: right;\">\n",
              "      <th></th>\n",
              "      <th>x1</th>\n",
              "      <th>x2</th>\n",
              "      <th>x3</th>\n",
              "      <th>x4</th>\n",
              "      <th>x5</th>\n",
              "      <th>x6</th>\n",
              "      <th>x7</th>\n",
              "      <th>x8</th>\n",
              "    </tr>\n",
              "  </thead>\n",
              "  <tbody>\n",
              "    <tr>\n",
              "      <th>count</th>\n",
              "      <td>3.810000e+02</td>\n",
              "      <td>3.810000e+02</td>\n",
              "      <td>3.810000e+02</td>\n",
              "      <td>3.810000e+02</td>\n",
              "      <td>3.810000e+02</td>\n",
              "      <td>3.810000e+02</td>\n",
              "      <td>3.810000e+02</td>\n",
              "      <td>3.810000e+02</td>\n",
              "    </tr>\n",
              "    <tr>\n",
              "      <th>mean</th>\n",
              "      <td>4.662354e-18</td>\n",
              "      <td>2.797412e-17</td>\n",
              "      <td>-1.631824e-17</td>\n",
              "      <td>-2.797412e-17</td>\n",
              "      <td>-2.797412e-17</td>\n",
              "      <td>-9.324708e-18</td>\n",
              "      <td>4.662354e-18</td>\n",
              "      <td>9.324708e-18</td>\n",
              "    </tr>\n",
              "    <tr>\n",
              "      <th>std</th>\n",
              "      <td>3.621316e+00</td>\n",
              "      <td>2.384647e+00</td>\n",
              "      <td>1.734338e+00</td>\n",
              "      <td>1.429617e+00</td>\n",
              "      <td>1.287268e+00</td>\n",
              "      <td>1.081252e+00</td>\n",
              "      <td>8.255491e-01</td>\n",
              "      <td>6.943847e-01</td>\n",
              "    </tr>\n",
              "    <tr>\n",
              "      <th>min</th>\n",
              "      <td>-5.508773e+00</td>\n",
              "      <td>-7.715905e+00</td>\n",
              "      <td>-4.493143e+00</td>\n",
              "      <td>-4.123493e+00</td>\n",
              "      <td>-4.905151e+00</td>\n",
              "      <td>-4.173706e+00</td>\n",
              "      <td>-3.651191e+00</td>\n",
              "      <td>-3.023013e+00</td>\n",
              "    </tr>\n",
              "    <tr>\n",
              "      <th>25%</th>\n",
              "      <td>-2.742047e+00</td>\n",
              "      <td>-1.477377e+00</td>\n",
              "      <td>-1.037060e+00</td>\n",
              "      <td>-9.484575e-01</td>\n",
              "      <td>-6.733832e-01</td>\n",
              "      <td>-7.036125e-01</td>\n",
              "      <td>-4.657817e-01</td>\n",
              "      <td>-3.591851e-01</td>\n",
              "    </tr>\n",
              "    <tr>\n",
              "      <th>50%</th>\n",
              "      <td>-1.110688e+00</td>\n",
              "      <td>-1.824313e-01</td>\n",
              "      <td>-1.804973e-01</td>\n",
              "      <td>-6.289660e-02</td>\n",
              "      <td>-5.918051e-02</td>\n",
              "      <td>-1.078260e-01</td>\n",
              "      <td>-5.509302e-03</td>\n",
              "      <td>1.888426e-02</td>\n",
              "    </tr>\n",
              "    <tr>\n",
              "      <th>75%</th>\n",
              "      <td>2.528431e+00</td>\n",
              "      <td>1.238930e+00</td>\n",
              "      <td>8.892163e-01</td>\n",
              "      <td>7.023924e-01</td>\n",
              "      <td>6.294085e-01</td>\n",
              "      <td>5.992903e-01</td>\n",
              "      <td>4.462397e-01</td>\n",
              "      <td>3.551078e-01</td>\n",
              "    </tr>\n",
              "    <tr>\n",
              "      <th>max</th>\n",
              "      <td>1.574861e+01</td>\n",
              "      <td>1.264984e+01</td>\n",
              "      <td>9.743745e+00</td>\n",
              "      <td>5.241572e+00</td>\n",
              "      <td>6.377598e+00</td>\n",
              "      <td>4.961734e+00</td>\n",
              "      <td>5.032409e+00</td>\n",
              "      <td>4.207317e+00</td>\n",
              "    </tr>\n",
              "  </tbody>\n",
              "</table>\n",
              "</div>\n",
              "    <div class=\"colab-df-buttons\">\n",
              "\n",
              "  <div class=\"colab-df-container\">\n",
              "    <button class=\"colab-df-convert\" onclick=\"convertToInteractive('df-d9690955-6079-4991-b5e2-9cdee718e4a0')\"\n",
              "            title=\"Convert this dataframe to an interactive table.\"\n",
              "            style=\"display:none;\">\n",
              "\n",
              "  <svg xmlns=\"http://www.w3.org/2000/svg\" height=\"24px\" viewBox=\"0 -960 960 960\">\n",
              "    <path d=\"M120-120v-720h720v720H120Zm60-500h600v-160H180v160Zm220 220h160v-160H400v160Zm0 220h160v-160H400v160ZM180-400h160v-160H180v160Zm440 0h160v-160H620v160ZM180-180h160v-160H180v160Zm440 0h160v-160H620v160Z\"/>\n",
              "  </svg>\n",
              "    </button>\n",
              "\n",
              "  <style>\n",
              "    .colab-df-container {\n",
              "      display:flex;\n",
              "      gap: 12px;\n",
              "    }\n",
              "\n",
              "    .colab-df-convert {\n",
              "      background-color: #E8F0FE;\n",
              "      border: none;\n",
              "      border-radius: 50%;\n",
              "      cursor: pointer;\n",
              "      display: none;\n",
              "      fill: #1967D2;\n",
              "      height: 32px;\n",
              "      padding: 0 0 0 0;\n",
              "      width: 32px;\n",
              "    }\n",
              "\n",
              "    .colab-df-convert:hover {\n",
              "      background-color: #E2EBFA;\n",
              "      box-shadow: 0px 1px 2px rgba(60, 64, 67, 0.3), 0px 1px 3px 1px rgba(60, 64, 67, 0.15);\n",
              "      fill: #174EA6;\n",
              "    }\n",
              "\n",
              "    .colab-df-buttons div {\n",
              "      margin-bottom: 4px;\n",
              "    }\n",
              "\n",
              "    [theme=dark] .colab-df-convert {\n",
              "      background-color: #3B4455;\n",
              "      fill: #D2E3FC;\n",
              "    }\n",
              "\n",
              "    [theme=dark] .colab-df-convert:hover {\n",
              "      background-color: #434B5C;\n",
              "      box-shadow: 0px 1px 3px 1px rgba(0, 0, 0, 0.15);\n",
              "      filter: drop-shadow(0px 1px 2px rgba(0, 0, 0, 0.3));\n",
              "      fill: #FFFFFF;\n",
              "    }\n",
              "  </style>\n",
              "\n",
              "    <script>\n",
              "      const buttonEl =\n",
              "        document.querySelector('#df-d9690955-6079-4991-b5e2-9cdee718e4a0 button.colab-df-convert');\n",
              "      buttonEl.style.display =\n",
              "        google.colab.kernel.accessAllowed ? 'block' : 'none';\n",
              "\n",
              "      async function convertToInteractive(key) {\n",
              "        const element = document.querySelector('#df-d9690955-6079-4991-b5e2-9cdee718e4a0');\n",
              "        const dataTable =\n",
              "          await google.colab.kernel.invokeFunction('convertToInteractive',\n",
              "                                                    [key], {});\n",
              "        if (!dataTable) return;\n",
              "\n",
              "        const docLinkHtml = 'Like what you see? Visit the ' +\n",
              "          '<a target=\"_blank\" href=https://colab.research.google.com/notebooks/data_table.ipynb>data table notebook</a>'\n",
              "          + ' to learn more about interactive tables.';\n",
              "        element.innerHTML = '';\n",
              "        dataTable['output_type'] = 'display_data';\n",
              "        await google.colab.output.renderOutput(dataTable, element);\n",
              "        const docLink = document.createElement('div');\n",
              "        docLink.innerHTML = docLinkHtml;\n",
              "        element.appendChild(docLink);\n",
              "      }\n",
              "    </script>\n",
              "  </div>\n",
              "\n",
              "\n",
              "<div id=\"df-5605fae0-e49e-4b9b-98d0-711f8bc32ae6\">\n",
              "  <button class=\"colab-df-quickchart\" onclick=\"quickchart('df-5605fae0-e49e-4b9b-98d0-711f8bc32ae6')\"\n",
              "            title=\"Suggest charts\"\n",
              "            style=\"display:none;\">\n",
              "\n",
              "<svg xmlns=\"http://www.w3.org/2000/svg\" height=\"24px\"viewBox=\"0 0 24 24\"\n",
              "     width=\"24px\">\n",
              "    <g>\n",
              "        <path d=\"M19 3H5c-1.1 0-2 .9-2 2v14c0 1.1.9 2 2 2h14c1.1 0 2-.9 2-2V5c0-1.1-.9-2-2-2zM9 17H7v-7h2v7zm4 0h-2V7h2v10zm4 0h-2v-4h2v4z\"/>\n",
              "    </g>\n",
              "</svg>\n",
              "  </button>\n",
              "\n",
              "<style>\n",
              "  .colab-df-quickchart {\n",
              "      --bg-color: #E8F0FE;\n",
              "      --fill-color: #1967D2;\n",
              "      --hover-bg-color: #E2EBFA;\n",
              "      --hover-fill-color: #174EA6;\n",
              "      --disabled-fill-color: #AAA;\n",
              "      --disabled-bg-color: #DDD;\n",
              "  }\n",
              "\n",
              "  [theme=dark] .colab-df-quickchart {\n",
              "      --bg-color: #3B4455;\n",
              "      --fill-color: #D2E3FC;\n",
              "      --hover-bg-color: #434B5C;\n",
              "      --hover-fill-color: #FFFFFF;\n",
              "      --disabled-bg-color: #3B4455;\n",
              "      --disabled-fill-color: #666;\n",
              "  }\n",
              "\n",
              "  .colab-df-quickchart {\n",
              "    background-color: var(--bg-color);\n",
              "    border: none;\n",
              "    border-radius: 50%;\n",
              "    cursor: pointer;\n",
              "    display: none;\n",
              "    fill: var(--fill-color);\n",
              "    height: 32px;\n",
              "    padding: 0;\n",
              "    width: 32px;\n",
              "  }\n",
              "\n",
              "  .colab-df-quickchart:hover {\n",
              "    background-color: var(--hover-bg-color);\n",
              "    box-shadow: 0 1px 2px rgba(60, 64, 67, 0.3), 0 1px 3px 1px rgba(60, 64, 67, 0.15);\n",
              "    fill: var(--button-hover-fill-color);\n",
              "  }\n",
              "\n",
              "  .colab-df-quickchart-complete:disabled,\n",
              "  .colab-df-quickchart-complete:disabled:hover {\n",
              "    background-color: var(--disabled-bg-color);\n",
              "    fill: var(--disabled-fill-color);\n",
              "    box-shadow: none;\n",
              "  }\n",
              "\n",
              "  .colab-df-spinner {\n",
              "    border: 2px solid var(--fill-color);\n",
              "    border-color: transparent;\n",
              "    border-bottom-color: var(--fill-color);\n",
              "    animation:\n",
              "      spin 1s steps(1) infinite;\n",
              "  }\n",
              "\n",
              "  @keyframes spin {\n",
              "    0% {\n",
              "      border-color: transparent;\n",
              "      border-bottom-color: var(--fill-color);\n",
              "      border-left-color: var(--fill-color);\n",
              "    }\n",
              "    20% {\n",
              "      border-color: transparent;\n",
              "      border-left-color: var(--fill-color);\n",
              "      border-top-color: var(--fill-color);\n",
              "    }\n",
              "    30% {\n",
              "      border-color: transparent;\n",
              "      border-left-color: var(--fill-color);\n",
              "      border-top-color: var(--fill-color);\n",
              "      border-right-color: var(--fill-color);\n",
              "    }\n",
              "    40% {\n",
              "      border-color: transparent;\n",
              "      border-right-color: var(--fill-color);\n",
              "      border-top-color: var(--fill-color);\n",
              "    }\n",
              "    60% {\n",
              "      border-color: transparent;\n",
              "      border-right-color: var(--fill-color);\n",
              "    }\n",
              "    80% {\n",
              "      border-color: transparent;\n",
              "      border-right-color: var(--fill-color);\n",
              "      border-bottom-color: var(--fill-color);\n",
              "    }\n",
              "    90% {\n",
              "      border-color: transparent;\n",
              "      border-bottom-color: var(--fill-color);\n",
              "    }\n",
              "  }\n",
              "</style>\n",
              "\n",
              "  <script>\n",
              "    async function quickchart(key) {\n",
              "      const quickchartButtonEl =\n",
              "        document.querySelector('#' + key + ' button');\n",
              "      quickchartButtonEl.disabled = true;  // To prevent multiple clicks.\n",
              "      quickchartButtonEl.classList.add('colab-df-spinner');\n",
              "      try {\n",
              "        const charts = await google.colab.kernel.invokeFunction(\n",
              "            'suggestCharts', [key], {});\n",
              "      } catch (error) {\n",
              "        console.error('Error during call to suggestCharts:', error);\n",
              "      }\n",
              "      quickchartButtonEl.classList.remove('colab-df-spinner');\n",
              "      quickchartButtonEl.classList.add('colab-df-quickchart-complete');\n",
              "    }\n",
              "    (() => {\n",
              "      let quickchartButtonEl =\n",
              "        document.querySelector('#df-5605fae0-e49e-4b9b-98d0-711f8bc32ae6 button');\n",
              "      quickchartButtonEl.style.display =\n",
              "        google.colab.kernel.accessAllowed ? 'block' : 'none';\n",
              "    })();\n",
              "  </script>\n",
              "</div>\n",
              "    </div>\n",
              "  </div>\n"
            ]
          },
          "metadata": {},
          "execution_count": 44
        }
      ]
    },
    {
      "cell_type": "code",
      "source": [
        "from sklearn.preprocessing import LabelEncoder\n",
        "\n",
        "# Encoding categorical target variable\n",
        "label_encoder = LabelEncoder()\n",
        "cancer_data['y_encoded'] = label_encoder.fit_transform(cancer_data['y'])"
      ],
      "metadata": {
        "id": "_-K-jZAuWlXT"
      },
      "execution_count": 46,
      "outputs": []
    },
    {
      "cell_type": "code",
      "source": [
        "import matplotlib.pyplot as plt\n",
        "import pandas as pd\n",
        "X = cancer_data.drop('y', axis=1)  # Features\n",
        "y = cancer_data['y']  # Target labels\n",
        "plt.figure(figsize=(8, 6))\n",
        "color_map = {'M': 'red', 'B': 'blue'}\n",
        "for target_label, color in color_map.items():\n",
        "    plt.scatter(X[y == target_label].iloc[:, 0], X[y == target_label].iloc[:, 1],\n",
        "                color=color, label=f\"Target {target_label}\")\n",
        "plt.title('Scatter Plot of x1 and x2 by Target Labels')\n",
        "plt.xlabel('x 1')\n",
        "plt.ylabel('x 2')\n",
        "plt.legend()\n",
        "plt.show()"
      ],
      "metadata": {
        "colab": {
          "base_uri": "https://localhost:8080/",
          "height": 564
        },
        "id": "iB081zP8XY1E",
        "outputId": "fb78c457-fd7a-46b5-c271-81d4bc47a9f2"
      },
      "execution_count": 47,
      "outputs": [
        {
          "output_type": "display_data",
          "data": {
            "text/plain": [
              "<Figure size 800x600 with 1 Axes>"
            ],
            "image/png": "[encoded data removed]"
          },
          "metadata": {}
        }
      ]
    },
    {
      "cell_type": "code",
      "source": [
        "from sklearn.model_selection import train_test_split\n",
        "\n",
        "X = cancer_data.drop(['y', 'y_encoded'], axis=1)\n",
        "y = cancer_data['y_encoded']\n",
        "\n",
        "# Splitting the data\n",
        "X_train, X_test, y_train, y_test = train_test_split(X, y, test_size=0.2, random_state=128)"
      ],
      "metadata": {
        "id": "ZoIODKSiXjBo"
      },
      "execution_count": 49,
      "outputs": []
    },
    {
      "cell_type": "code",
      "source": [
        "from sklearn.model_selection import GridSearchCV\n",
        "from sklearn.linear_model import Perceptron\n",
        "from sklearn.linear_model import LogisticRegression\n",
        "from sklearn.tree import DecisionTreeClassifier\n",
        "from sklearn.ensemble import RandomForestClassifier\n",
        "from sklearn.svm import SVC\n",
        "from sklearn.neighbors import KNeighborsClassifier\n",
        "from xgboost import XGBClassifier\n",
        "from sklearn.metrics import accuracy_score, precision_score, recall_score, f1_score, roc_auc_score\n",
        "\n",
        "models = {\n",
        "    'Perceptron': Perceptron(),\n",
        "    'Logistic Regression': LogisticRegression(),\n",
        "    'Decision Tree': DecisionTreeClassifier(),\n",
        "    'Random Forest': RandomForestClassifier(),\n",
        "    'Support Vector Machine': SVC(),\n",
        "    'K-Nearest Neighbors': KNeighborsClassifier(),\n",
        "    'XGBoost': XGBClassifier()\n",
        "}"
      ],
      "metadata": {
        "id": "qsehlLGlYm2C"
      },
      "execution_count": 50,
      "outputs": []
    },
    {
      "cell_type": "code",
      "source": [
        "# Specify hyperparameters for each model\n",
        "from sklearn.model_selection import GridSearchCV\n",
        "from sklearn.linear_model import Perceptron\n",
        "from sklearn.linear_model import LogisticRegression\n",
        "from sklearn.tree import DecisionTreeClassifier\n",
        "from sklearn.ensemble import RandomForestClassifier\n",
        "from sklearn.svm import SVC\n",
        "from sklearn.neighbors import KNeighborsClassifier\n",
        "from xgboost import XGBClassifier\n",
        "from sklearn.metrics import accuracy_score, precision_score, recall_score, f1_score, roc_auc_score\n",
        "\n",
        "models = {\n",
        "    'Perceptron': Perceptron(),\n",
        "    'Logistic Regression': LogisticRegression(),\n",
        "    'Decision Tree': DecisionTreeClassifier(),\n",
        "    'Random Forest': RandomForestClassifier(),\n",
        "    'Support Vector Machine': SVC(),\n",
        "    'K-Nearest Neighbors': KNeighborsClassifier(),\n",
        "    'XGBoost': XGBClassifier()\n",
        "}\n",
        "\n",
        "params = {\n",
        "    'Perceptron': {'max_iter': [100, 500, 1000], 'eta0': [0.1, 0.01, 0.001]},\n",
        "    'Logistic Regression': {'C': [0.1, 1, 10]},\n",
        "    'Decision Tree': {'max_depth': [None, 5, 10, 15]},\n",
        "    'Random Forest': {'n_estimators': [50, 100, 150], 'max_depth': [None, 5, 10]},\n",
        "    'Support Vector Machine': {'C': [0.1, 1, 10], 'gamma': ['scale', 'auto']},\n",
        "    'K-Nearest Neighbors': {'n_neighbors': [3, 5, 7]},\n",
        "    'XGBoost': {'max_depth': [3, 5, 7], 'learning_rate': [0.1, 0.01, 0.001]}\n",
        "}\n",
        "\n",
        "results = {}\n",
        "for model_name, model in models.items():\n",
        "    grid_search = GridSearchCV(model, params[model_name], cv=5, scoring='accuracy')\n",
        "    grid_search.fit(X_train, y_train)\n",
        "    best_model = grid_search.best_estimator_\n",
        "\n",
        "    best_params = grid_search.best_params_\n",
        "\n",
        "    y_pred = best_model.predict(X_test)\n",
        "\n",
        "    accuracy = accuracy_score(y_test, y_pred)\n",
        "    precision = precision_score(y_test, y_pred)\n",
        "    recall = recall_score(y_test, y_pred)\n",
        "    f1 = f1_score(y_test, y_pred)\n",
        "    roc_auc = roc_auc_score(y_test, y_pred)\n",
        "\n",
        "    results[model_name] = {\n",
        "        'Best Model': best_model,\n",
        "        'Best Parameters': best_params,\n",
        "        'Accuracy': accuracy,\n",
        "        'Precision': precision,\n",
        "        'Recall': recall,\n",
        "        'F1 Score': f1,\n",
        "        'ROC AUC': roc_auc\n",
        "    }\n",
        "\n"
      ],
      "metadata": {
        "id": "8Q5KJKXoYrW3"
      },
      "execution_count": 51,
      "outputs": []
    },
    {
      "cell_type": "code",
      "source": [
        "for model_name, metrics in results.items():\n",
        "    print(f\"Model: {model_name}\")\n",
        "    print(f\"Best_Params: {metrics['Best Parameters']}\")\n",
        "    print(f\"Accuracy: {metrics['Accuracy']}\")\n",
        "    print(f\"Precision: {metrics['Precision']}\")\n",
        "    print(f\"Recall: {metrics['Recall']}\")\n",
        "    print(f\"F1 Score: {metrics['F1 Score']}\")\n",
        "    print(f\"ROC AUC: {metrics['ROC AUC']}\")\n",
        "    print(\"------------------------\")\n"
      ],
      "metadata": {
        "colab": {
          "base_uri": "https://localhost:8080/"
        },
        "id": "IpaE6o_OYuZm",
        "outputId": "0f8eea95-2998-412b-c3d6-d1c95dc85372"
      },
      "execution_count": 52,
      "outputs": [
        {
          "output_type": "stream",
          "name": "stdout",
          "text": [
            "Model: Perceptron\n",
            "Best_Params: {'eta0': 0.001, 'max_iter': 100}\n",
            "Accuracy: 0.974025974025974\n",
            "Precision: 0.9583333333333334\n",
            "Recall: 0.9583333333333334\n",
            "F1 Score: 0.9583333333333334\n",
            "ROC AUC: 0.9697327044025158\n",
            "------------------------\n",
            "Model: Logistic Regression\n",
            "Best_Params: {'C': 10}\n",
            "Accuracy: 0.974025974025974\n",
            "Precision: 0.9583333333333334\n",
            "Recall: 0.9583333333333334\n",
            "F1 Score: 0.9583333333333334\n",
            "ROC AUC: 0.9697327044025158\n",
            "------------------------\n",
            "Model: Decision Tree\n",
            "Best_Params: {'max_depth': None}\n",
            "Accuracy: 0.961038961038961\n",
            "Precision: 0.8888888888888888\n",
            "Recall: 1.0\n",
            "F1 Score: 0.9411764705882353\n",
            "ROC AUC: 0.9716981132075472\n",
            "------------------------\n",
            "Model: Random Forest\n",
            "Best_Params: {'max_depth': 5, 'n_estimators': 100}\n",
            "Accuracy: 0.987012987012987\n",
            "Precision: 0.96\n",
            "Recall: 1.0\n",
            "F1 Score: 0.9795918367346939\n",
            "ROC AUC: 0.9905660377358491\n",
            "------------------------\n",
            "Model: Support Vector Machine\n",
            "Best_Params: {'C': 1, 'gamma': 'scale'}\n",
            "Accuracy: 1.0\n",
            "Precision: 1.0\n",
            "Recall: 1.0\n",
            "F1 Score: 1.0\n",
            "ROC AUC: 1.0\n",
            "------------------------\n",
            "Model: K-Nearest Neighbors\n",
            "Best_Params: {'n_neighbors': 5}\n",
            "Accuracy: 0.987012987012987\n",
            "Precision: 1.0\n",
            "Recall: 0.9583333333333334\n",
            "F1 Score: 0.9787234042553191\n",
            "ROC AUC: 0.9791666666666667\n",
            "------------------------\n",
            "Model: XGBoost\n",
            "Best_Params: {'learning_rate': 0.1, 'max_depth': 5}\n",
            "Accuracy: 0.974025974025974\n",
            "Precision: 0.9583333333333334\n",
            "Recall: 0.9583333333333334\n",
            "F1 Score: 0.9583333333333334\n",
            "ROC AUC: 0.9697327044025158\n",
            "------------------------\n"
          ]
        }
      ]
    },
    {
      "cell_type": "markdown",
      "source": [
        "A model that balances precision and recall is ideal for task-related health data, particularly cancer detection, where both false negatives and false positives have significant implications.The balance between them results in a higher F1 score.\n",
        "\n",
        "In my case, K Nearest Neighbours and Logistic Regression have 100% precision, which means they had no false positives out of all the models I compared! However, because this is a medical problem, false positives weigh less than false negatives.**Support Vector Machine** has a higher F1 score, implying fewer false positives and false negatives, proving it to be superior to others. So I'd use Support Vector Machine (SVM) with the parameters 'C': 10, 'gamma':'scale'.\n"
      ],
      "metadata": {
        "id": "G_97lT2TY5-x"
      }
    },
    {
      "cell_type": "code",
      "source": [],
      "metadata": {
        "id": "stsKZ0nuYwr8"
      },
      "execution_count": null,
      "outputs": []
    }
  ]
}