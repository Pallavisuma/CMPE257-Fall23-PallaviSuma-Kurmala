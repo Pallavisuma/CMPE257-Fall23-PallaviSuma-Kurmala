{
  "nbformat": 4,
  "nbformat_minor": 0,
  "metadata": {
    "colab": {
      "provenance": [],
      "authorship_tag": "ABX9TyPcUxY/HUoelLEytek7XnDO",
      "include_colab_link": true
    },
    "kernelspec": {
      "name": "python3",
      "display_name": "Python 3"
    },
    "language_info": {
      "name": "python"
    }
  },
  "cells": [
    {
      "cell_type": "markdown",
      "metadata": {
        "id": "view-in-github",
        "colab_type": "text"
      },
      "source": [
        "<a href=\"https://colab.research.google.com/github/Pallavisuma/CMPE257-Fall23-PallaviSuma-Kurmala/blob/homework-4/Homework4.ipynb\" target=\"_parent\"><img src=\"https://colab.research.google.com/assets/colab-badge.svg\" alt=\"Open In Colab\"/></a>"
      ]
    },
    {
      "cell_type": "markdown",
      "source": [
        "Home Work 4"
      ],
      "metadata": {
        "id": "WX9kGkSgFjoP"
      }
    },
    {
      "cell_type": "markdown",
      "source": [
        "Task 1 LP1"
      ],
      "metadata": {
        "id": "SW_bVl1qFry2"
      }
    },
    {
      "cell_type": "code",
      "source": [
        "import pandas as pd\n",
        "import numpy as np\n",
        "\n",
        "def proper_df(input_data):\n",
        "    data = []\n",
        "    N, M = input_data.shape\n",
        "    for i in range(N):\n",
        "        string = input_data.iloc[i]\n",
        "        list_at_i = [float(x) for x in string[0].split()]\n",
        "        data.append(list_at_i)\n",
        "    df = pd.DataFrame(data, columns=get_labels())\n",
        "    return df\n",
        "\n",
        "def get_labels():\n",
        "    column_names = ['label']\n",
        "    column_names.extend([str(x) for x in range(256)])\n",
        "    return column_names\n",
        "\n",
        "def calculate_intensity(df):\n",
        "    pixel_values = df.iloc[:, 1:].values\n",
        "    mean_absolute_intensity = np.mean(np.abs(pixel_values), axis=1)\n",
        "    df['x1'] = mean_absolute_intensity\n",
        "    return df\n",
        "\n",
        "def calculate_symmetry(df):\n",
        "    pixel_values = df.iloc[:, 1:].values\n",
        "    n = pixel_values.shape[1]\n",
        "    cms_symmetry = np.sum(np.abs(pixel_values - np.flip(pixel_values, axis=1)), axis=1) / n\n",
        "    df['x2'] = cms_symmetry\n",
        "    return df\n",
        "\n",
        "def get_preprocessed_digits_dataframe(file_path):\n",
        "    digit_train_data = pd.read_csv(file_path)\n",
        "    digit_train_df = proper_df(digit_train_data)\n",
        "\n",
        "    # Assign 1 to '1' and -1 to all other digits\n",
        "    digit_train_df['label'] = np.where(digit_train_df['label'] == 1, 1, -1)\n",
        "\n",
        "    return digit_train_df\n",
        "\n",
        "# Example usage\n",
        "file_path = '/content/ZipDigits (1).train'\n",
        "binary_filtered_digit_train_df = get_preprocessed_digits_dataframe(file_path)\n",
        "binary_filtered_digit_train_df = binary_filtered_digit_train_df.rename(columns={'label': 'y'})\n",
        "binary_filtered_digit_train_df = calculate_intensity(binary_filtered_digit_train_df)\n",
        "binary_filtered_digit_train_df = calculate_symmetry(binary_filtered_digit_train_df)\n",
        "train_df = binary_filtered_digit_train_df[['x1', 'x2', 'y']]\n",
        "positive_train_df = train_df[train_df['y'] == 1]\n",
        "negative_train_df = train_df[train_df['y'] == -1]\n"
      ],
      "metadata": {
        "id": "40V31XghFmKc"
      },
      "execution_count": 18,
      "outputs": []
    },
    {
      "cell_type": "code",
      "source": [
        "import pandas as pd\n",
        "import numpy as np\n",
        "from sklearn.svm import SVC\n",
        "from sklearn.metrics import accuracy_score\n",
        "\n",
        "# Assuming you already have your preprocessed training data (train_df)\n",
        "\n",
        "# Separate features (X) and labels (y)\n",
        "X = train_df[['x1', 'x2']]\n",
        "y = train_df['y']\n",
        "\n",
        "# Train SVM classifiers with different kernels\n",
        "svm_linear = SVC(kernel='linear')\n",
        "svm_poly = SVC(kernel='poly', degree=3)\n",
        "svm_rbf = SVC(kernel='rbf')\n",
        "\n",
        "svm_linear.fit(X, y)\n",
        "svm_poly.fit(X, y)\n",
        "svm_rbf.fit(X, y)\n",
        "\n",
        "# Predict on the training set\n",
        "y_pred_linear = svm_linear.predict(X)\n",
        "y_pred_poly = svm_poly.predict(X)\n",
        "y_pred_rbf = svm_rbf.predict(X)\n",
        "\n",
        "# Calculate training error\n",
        "error_linear = 1 - accuracy_score(y, y_pred_linear)\n",
        "error_poly = 1 - accuracy_score(y, y_pred_poly)\n",
        "error_rbf = 1 - accuracy_score(y, y_pred_rbf)\n",
        "\n",
        "# Report training error\n",
        "print(\"Training Error (Linear Kernel): {:.2%}\".format(error_linear))\n",
        "print(\"Training Error (Polynomial Kernel): {:.2%}\".format(error_poly))\n",
        "print(\"Training Error (RBF Kernel): {:.2%}\".format(error_rbf))\n"
      ],
      "metadata": {
        "colab": {
          "base_uri": "https://localhost:8080/"
        },
        "id": "ZL_oS0K-_1VP",
        "outputId": "7a800b24-f76b-449d-ac8c-e7d9cecc7e31"
      },
      "execution_count": 4,
      "outputs": [
        {
          "output_type": "stream",
          "name": "stdout",
          "text": [
            "Training Error (Linear Kernel): 2.40%\n",
            "Training Error (Polynomial Kernel): 1.21%\n",
            "Training Error (RBF Kernel): 1.37%\n"
          ]
        }
      ]
    },
    {
      "cell_type": "markdown",
      "source": [
        "HP 1"
      ],
      "metadata": {
        "id": "EEYS78USFxiC"
      }
    },
    {
      "cell_type": "markdown",
      "source": [
        "Based on the training error results provided for the linear, polynomial (3rd order), and RBF kernels, it's not possible to definitively determine the best kernel for the dataset. The training error is not always a reliable metric for model selection, especially when evaluating on the same dataset used for training.\n",
        "\n",
        "Selecting a model based solely on training error can lead to overfitting, where a model performs well on the training data but fails to generalize to unseen data. It's essential to evaluate the model on a separate test set or using cross-validation to get a more accurate estimate of its generalization performance.\n",
        "\n",
        "In summary, training error alone is not an appropriate way to select a model. A more robust approach involves assessing model performance on a separate validation or test set to ensure better generalization to new, unseen data.\n",
        "\n",
        "But the Training Error is less for Polynomial Kernel"
      ],
      "metadata": {
        "id": "Mvf6qNrPAXNK"
      }
    },
    {
      "cell_type": "markdown",
      "source": [
        "TASK 2 LP1"
      ],
      "metadata": {
        "id": "mj2EmB_RF07d"
      }
    },
    {
      "cell_type": "code",
      "source": [
        "from sklearn.model_selection import GridSearchCV, cross_val_score\n",
        "\n",
        "\n",
        "\n",
        "# Define the parameter grid\n",
        "param_grid = {'kernel': ['linear', 'poly', 'rbf'],\n",
        "              'C': [0.01, 0.1, 1, 10, 100]}\n",
        "\n",
        "# Create an SVC instance\n",
        "svm = SVC()\n",
        "\n",
        "# Create a GridSearchCV object\n",
        "grid_search = GridSearchCV(svm, param_grid, cv=5)\n",
        "\n",
        "# Fit the model to the data\n",
        "grid_search.fit(X, y)\n",
        "\n",
        "# Get the results\n",
        "results = pd.DataFrame(grid_search.cv_results_)\n",
        "\n",
        "# Display the cross-validation results\n",
        "print(\"Cross-validation results:\")\n",
        "print(results[['param_kernel', 'param_C', 'mean_test_score']])\n"
      ],
      "metadata": {
        "colab": {
          "base_uri": "https://localhost:8080/"
        },
        "id": "ygWyn_ILAGHc",
        "outputId": "c9b20360-392a-45e1-e0ef-a3e18c8736fb"
      },
      "execution_count": 5,
      "outputs": [
        {
          "output_type": "stream",
          "name": "stdout",
          "text": [
            "Cross-validation results:\n",
            "   param_kernel param_C  mean_test_score\n",
            "0        linear    0.01         0.862140\n",
            "1          poly    0.01         0.986694\n",
            "2           rbf    0.01         0.963374\n",
            "3        linear     0.1         0.960219\n",
            "4          poly     0.1         0.987791\n",
            "5           rbf     0.1         0.978052\n",
            "6        linear       1         0.974348\n",
            "7          poly       1         0.987517\n",
            "8           rbf       1         0.985871\n",
            "9        linear      10         0.985734\n",
            "10         poly      10         0.987380\n",
            "11          rbf      10         0.988203\n",
            "12       linear     100         0.987380\n",
            "13         poly     100         0.987380\n",
            "14          rbf     100         0.988066\n"
          ]
        }
      ]
    },
    {
      "cell_type": "markdown",
      "source": [
        "LP2"
      ],
      "metadata": {
        "id": "lsGcs-3VF50h"
      }
    },
    {
      "cell_type": "markdown",
      "source": [
        " It will identify and print the best kernel and C value based on the minimum cross-validation error."
      ],
      "metadata": {
        "id": "zUll7mUMFPXX"
      }
    },
    {
      "cell_type": "code",
      "source": [
        "# Find the best parameters\n",
        "best_params = grid_search.best_params_\n",
        "best_kernel = best_params['kernel']\n",
        "best_C = best_params['C']\n",
        "\n",
        "print(f\"Best Kernel: {best_kernel}\")\n",
        "print(f\"Best C Value: {best_C}\")\n"
      ],
      "metadata": {
        "colab": {
          "base_uri": "https://localhost:8080/"
        },
        "id": "9m2z6sSrA__j",
        "outputId": "be24d8fd-0a6f-48d7-a5f2-9e17dabbe9c7"
      },
      "execution_count": 6,
      "outputs": [
        {
          "output_type": "stream",
          "name": "stdout",
          "text": [
            "Best Kernel: rbf\n",
            "Best C Value: 10\n"
          ]
        }
      ]
    },
    {
      "cell_type": "markdown",
      "source": [
        "HP"
      ],
      "metadata": {
        "id": "m9yjVmFKFJot"
      }
    },
    {
      "cell_type": "code",
      "source": [
        "import matplotlib.pyplot as plt\n",
        "import numpy as np\n",
        "from sklearn.model_selection import validation_curve\n",
        "\n",
        "\n",
        "svm = SVC()\n",
        "\n",
        "# Define the parameter range for C\n",
        "param_range = [0.01, 0.1, 1, 10, 100]\n",
        "\n",
        "# Calculate cross-validation scores\n",
        "train_scores, test_scores = validation_curve(\n",
        "    svm, X, y, param_name='C', param_range=param_range, cv=5, scoring='accuracy'\n",
        ")\n",
        "\n",
        "# Calculate mean and standard deviation for training and test scores\n",
        "train_mean = np.mean(train_scores, axis=1)\n",
        "train_std = np.std(train_scores, axis=1)\n",
        "test_mean = np.mean(test_scores, axis=1)\n",
        "test_std = np.std(test_scores, axis=1)\n",
        "\n",
        "# Plotting the validation curve\n",
        "plt.figure(figsize=(10, 6))\n",
        "plt.plot(param_range, 1 - train_mean, label='In-Sample Error (Training Error)', linestyle='--', marker='o')\n",
        "plt.plot(param_range, 1 - test_mean, label='Cross-Validation Error', linestyle='-', marker='o')\n",
        "\n",
        "# Fill the area between the lines to represent the variability of the scores\n",
        "plt.fill_between(param_range, 1 - train_mean - train_std, 1 - train_mean + train_std, alpha=0.2)\n",
        "plt.fill_between(param_range, 1 - test_mean - test_std, 1 - test_mean + test_std, alpha=0.2)\n",
        "\n",
        "# Set plot labels and title\n",
        "plt.xlabel('C Value (Regularization Parameter)')\n",
        "plt.ylabel('Error Rate')\n",
        "plt.title('Validation Curve: SVM Model Complexity')\n",
        "plt.xscale('log')  # Log scale for better visualization with C values\n",
        "plt.legend()\n",
        "plt.show()\n"
      ],
      "metadata": {
        "colab": {
          "base_uri": "https://localhost:8080/",
          "height": 569
        },
        "id": "NCU7wSLIBDsx",
        "outputId": "60312a95-0e09-43c8-a7bd-64ec12614047"
      },
      "execution_count": 17,
      "outputs": [
        {
          "output_type": "display_data",
          "data": {
            "text/plain": [
              "<Figure size 1000x600 with 1 Axes>"
            ],
            "image/png": "[encoded data removed]"
          },
          "metadata": {}
        }
      ]
    },
    {
      "cell_type": "markdown",
      "source": [
        "The validation curve illustrates the in-sample error (training error) and cross-validation error for different C values in an SVM model. The x-axis represents the regularization parameter (C) on a logarithmic scale, and the y-axis represents the error rate. The dashed line indicates the in-sample error, and the solid line shows the cross-validation error. The shaded areas around the lines represent the variability of the scores. The plot helps identify the optimal C value that balances model complexity and generalization performance."
      ],
      "metadata": {
        "id": "CoOK6g7bE1CP"
      }
    },
    {
      "cell_type": "markdown",
      "source": [
        "Task3 LP1"
      ],
      "metadata": {
        "id": "1eylSRdQB5qn"
      }
    },
    {
      "cell_type": "code",
      "source": [
        "from sklearn.svm import SVC\n",
        "from sklearn.metrics import accuracy_score\n",
        "\n",
        "best_kernel = 'rbf'  # Replace with the best kernel from cross-validation\n",
        "best_C = 10  # Replace with the best C value from cross-validation\n",
        "\n",
        "# Train the final SVM hypothesis on the entire training dataset\n",
        "final_svm = SVC(kernel=best_kernel, C=best_C)\n",
        "final_svm.fit(X, y)\n",
        "\n",
        "# Predict on the entire training dataset\n",
        "y_pred_train = final_svm.predict(X)\n",
        "\n",
        "# Calculate and report in-sample error\n",
        "in_sample_error = 1 - accuracy_score(y, y_pred_train)\n",
        "print(f\"In-Sample Error for the Final SVM Hypothesis: {in_sample_error:.2%}\")\n"
      ],
      "metadata": {
        "colab": {
          "base_uri": "https://localhost:8080/"
        },
        "id": "zZKOl8nkBffo",
        "outputId": "2d07f816-a9cd-4bb9-858e-e99bad9fefea"
      },
      "execution_count": 15,
      "outputs": [
        {
          "output_type": "stream",
          "name": "stdout",
          "text": [
            "In-Sample Error for the Final SVM Hypothesis: 1.17%\n"
          ]
        }
      ]
    },
    {
      "cell_type": "markdown",
      "source": [
        "LP2"
      ],
      "metadata": {
        "id": "G61qBtZ6GLer"
      }
    },
    {
      "cell_type": "code",
      "source": [
        "\n",
        "file_path = '/content/ZipDigits (1).test'\n",
        "binary_filtered_digit_test_df = get_preprocessed_digits_dataframe(file_path)\n",
        "binary_filtered_digit_test_df = binary_filtered_digit_test_df.rename(columns={'label': 'y'})\n",
        "binary_filtered_digit_test_df = calculate_intensity(binary_filtered_digit_test_df)\n",
        "binary_filtered_digit_test_df = calculate_symmetry(binary_filtered_digit_test_df)\n",
        "test_df = binary_filtered_digit_test_df[['x1', 'x2', 'y']]\n",
        "positive_test_df = test_df[test_df['y'] == 1]\n",
        "negative_test_df = test_df[test_df['y'] == -1]\n",
        "\n",
        "\n",
        "# Separate features (X_test) and labels (y_test)\n",
        "X_test = test_df[['x1', 'x2']]\n",
        "y_test = test_df['y']  # Replace 'y' with the actual column name if different\n",
        "\n",
        "# Predict on the test dataset\n",
        "y_pred_test = final_svm.predict(X_test)\n",
        "\n",
        "# Calculate and report the final test error\n",
        "test_error = 1 - accuracy_score(y_test, y_pred_test)\n",
        "print(f\"Final Test Error for the SVM Hypothesis: {test_error:.2%}\")\n"
      ],
      "metadata": {
        "colab": {
          "base_uri": "https://localhost:8080/"
        },
        "id": "WA2LlaOOCDzz",
        "outputId": "11dbf533-dc41-4ec2-d5f9-c85b10e39783"
      },
      "execution_count": 16,
      "outputs": [
        {
          "output_type": "stream",
          "name": "stdout",
          "text": [
            "Final Test Error for the SVM Hypothesis: 1.60%\n"
          ]
        }
      ]
    }
  ]
}